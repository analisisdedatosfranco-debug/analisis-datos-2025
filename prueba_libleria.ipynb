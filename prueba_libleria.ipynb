{
 "cells": [
  {
   "cell_type": "code",
   "execution_count": 64,
   "id": "f980ddc1",
   "metadata": {},
   "outputs": [],
   "source": [
    "# Ejemplo importar pandas\n",
    "import pandas as pd # importa la libleria pandas y le coloco el apodo pd \n",
    "from sklearn.datasets import load_iris # importa la funcion load_iris de libleria sklearn\n"
   ]
  },
  {
   "cell_type": "markdown",
   "id": "ca17c93b",
   "metadata": {},
   "source": [
    "# ejemplo importar pandas"
   ]
  },
  {
   "cell_type": "code",
   "execution_count": 65,
   "id": "e3c143da",
   "metadata": {},
   "outputs": [],
   "source": [
    "# crear un datofran a partir de un diccionario\n",
    "datos_iniciales = {\"edad\": [18, 18, 25, 32],\n",
    "            \"estatura\": [1.7, 1.65, 1.82, 2],\n",
    "            \"nacinalidad\": [\"peru\", \"peru\", \"eeuu\", \"Ucrania\"],\n",
    "           \"c_hijos\": [1, \"dos\", \"cero\", 2] }\n",
    "df = pd.DataFrame(datos_iniciales) # crear un datafrem a partir de una tabla "
   ]
  },
  {
   "cell_type": "code",
   "execution_count": 66,
   "id": "a5e08aff",
   "metadata": {},
   "outputs": [
    {
     "data": {
      "text/html": [
       "<div>\n",
       "<style scoped>\n",
       "    .dataframe tbody tr th:only-of-type {\n",
       "        vertical-align: middle;\n",
       "    }\n",
       "\n",
       "    .dataframe tbody tr th {\n",
       "        vertical-align: top;\n",
       "    }\n",
       "\n",
       "    .dataframe thead th {\n",
       "        text-align: right;\n",
       "    }\n",
       "</style>\n",
       "<table border=\"1\" class=\"dataframe\">\n",
       "  <thead>\n",
       "    <tr style=\"text-align: right;\">\n",
       "      <th></th>\n",
       "      <th>edad</th>\n",
       "      <th>estatura</th>\n",
       "      <th>nacinalidad</th>\n",
       "      <th>c_hijos</th>\n",
       "    </tr>\n",
       "  </thead>\n",
       "  <tbody>\n",
       "    <tr>\n",
       "      <th>0</th>\n",
       "      <td>18</td>\n",
       "      <td>1.70</td>\n",
       "      <td>peru</td>\n",
       "      <td>1</td>\n",
       "    </tr>\n",
       "    <tr>\n",
       "      <th>1</th>\n",
       "      <td>18</td>\n",
       "      <td>1.65</td>\n",
       "      <td>peru</td>\n",
       "      <td>dos</td>\n",
       "    </tr>\n",
       "    <tr>\n",
       "      <th>2</th>\n",
       "      <td>25</td>\n",
       "      <td>1.82</td>\n",
       "      <td>eeuu</td>\n",
       "      <td>cero</td>\n",
       "    </tr>\n",
       "    <tr>\n",
       "      <th>3</th>\n",
       "      <td>32</td>\n",
       "      <td>2.00</td>\n",
       "      <td>Ucrania</td>\n",
       "      <td>2</td>\n",
       "    </tr>\n",
       "  </tbody>\n",
       "</table>\n",
       "</div>"
      ],
      "text/plain": [
       "   edad  estatura nacinalidad c_hijos\n",
       "0    18      1.70        peru       1\n",
       "1    18      1.65        peru     dos\n",
       "2    25      1.82        eeuu    cero\n",
       "3    32      2.00     Ucrania       2"
      ]
     },
     "execution_count": 66,
     "metadata": {},
     "output_type": "execute_result"
    }
   ],
   "source": [
    "df"
   ]
  },
  {
   "cell_type": "code",
   "execution_count": 67,
   "id": "8cf12336",
   "metadata": {},
   "outputs": [
    {
     "name": "stdout",
     "output_type": "stream",
     "text": [
      "<class 'pandas.core.frame.DataFrame'>\n",
      "RangeIndex: 4 entries, 0 to 3\n",
      "Data columns (total 4 columns):\n",
      " #   Column       Non-Null Count  Dtype  \n",
      "---  ------       --------------  -----  \n",
      " 0   edad         4 non-null      int64  \n",
      " 1   estatura     4 non-null      float64\n",
      " 2   nacinalidad  4 non-null      object \n",
      " 3   c_hijos      4 non-null      object \n",
      "dtypes: float64(1), int64(1), object(2)\n",
      "memory usage: 260.0+ bytes\n"
     ]
    }
   ],
   "source": [
    "df.info() # muestra la informacion del datafrem"
   ]
  },
  {
   "cell_type": "code",
   "execution_count": 68,
   "id": "b0602040",
   "metadata": {},
   "outputs": [
    {
     "data": {
      "text/html": [
       "<div>\n",
       "<style scoped>\n",
       "    .dataframe tbody tr th:only-of-type {\n",
       "        vertical-align: middle;\n",
       "    }\n",
       "\n",
       "    .dataframe tbody tr th {\n",
       "        vertical-align: top;\n",
       "    }\n",
       "\n",
       "    .dataframe thead th {\n",
       "        text-align: right;\n",
       "    }\n",
       "</style>\n",
       "<table border=\"1\" class=\"dataframe\">\n",
       "  <thead>\n",
       "    <tr style=\"text-align: right;\">\n",
       "      <th></th>\n",
       "      <th>edad</th>\n",
       "      <th>estatura</th>\n",
       "    </tr>\n",
       "  </thead>\n",
       "  <tbody>\n",
       "    <tr>\n",
       "      <th>count</th>\n",
       "      <td>4.00000</td>\n",
       "      <td>4.000000</td>\n",
       "    </tr>\n",
       "    <tr>\n",
       "      <th>mean</th>\n",
       "      <td>23.25000</td>\n",
       "      <td>1.792500</td>\n",
       "    </tr>\n",
       "    <tr>\n",
       "      <th>std</th>\n",
       "      <td>6.70199</td>\n",
       "      <td>0.155644</td>\n",
       "    </tr>\n",
       "    <tr>\n",
       "      <th>min</th>\n",
       "      <td>18.00000</td>\n",
       "      <td>1.650000</td>\n",
       "    </tr>\n",
       "    <tr>\n",
       "      <th>25%</th>\n",
       "      <td>18.00000</td>\n",
       "      <td>1.687500</td>\n",
       "    </tr>\n",
       "    <tr>\n",
       "      <th>50%</th>\n",
       "      <td>21.50000</td>\n",
       "      <td>1.760000</td>\n",
       "    </tr>\n",
       "    <tr>\n",
       "      <th>75%</th>\n",
       "      <td>26.75000</td>\n",
       "      <td>1.865000</td>\n",
       "    </tr>\n",
       "    <tr>\n",
       "      <th>max</th>\n",
       "      <td>32.00000</td>\n",
       "      <td>2.000000</td>\n",
       "    </tr>\n",
       "  </tbody>\n",
       "</table>\n",
       "</div>"
      ],
      "text/plain": [
       "           edad  estatura\n",
       "count   4.00000  4.000000\n",
       "mean   23.25000  1.792500\n",
       "std     6.70199  0.155644\n",
       "min    18.00000  1.650000\n",
       "25%    18.00000  1.687500\n",
       "50%    21.50000  1.760000\n",
       "75%    26.75000  1.865000\n",
       "max    32.00000  2.000000"
      ]
     },
     "execution_count": 68,
     "metadata": {},
     "output_type": "execute_result"
    }
   ],
   "source": [
    "df.describe() # resumen de la estadisica descriptivas baisca\n"
   ]
  },
  {
   "cell_type": "code",
   "execution_count": 69,
   "id": "c5de5efa",
   "metadata": {},
   "outputs": [
    {
     "data": {
      "text/plain": [
       "<Axes: >"
      ]
     },
     "execution_count": 69,
     "metadata": {},
     "output_type": "execute_result"
    },
    {
     "data": {
      "image/png": "[encoded data removed]",
      "text/plain": [
       "<Figure size 640x480 with 1 Axes>"
      ]
     },
     "metadata": {},
     "output_type": "display_data"
    }
   ],
   "source": [
    "# Generar frafico de barras \n",
    "df[\"edad\"].plot(kind=\"bar\") # Genera un grafico de barras de la columna de edad del grafico"
   ]
  },
  {
   "cell_type": "markdown",
   "id": "1114d44b",
   "metadata": {},
   "source": []
  },
  {
   "cell_type": "code",
   "execution_count": 70,
   "id": "ff5cb2dc",
   "metadata": {},
   "outputs": [
    {
     "data": {
      "text/plain": [
       "<Axes: ylabel='count'>"
      ]
     },
     "execution_count": 70,
     "metadata": {},
     "output_type": "execute_result"
    },
    {
     "data": {
      "image/png": "[encoded data removed]",
      "text/plain": [
       "<Figure size 640x480 with 1 Axes>"
      ]
     },
     "metadata": {},
     "output_type": "display_data"
    }
   ],
   "source": [
    "frecuencia = df[\"nacinalidad\"].value_counts() # cuenta las nacionalidades del datafrem\n",
    "frecuencia.plot(kind=\"pie\", legend=frecuencia.all(), autopct= '%1.1f%%') # genera grafico de circular "
   ]
  },
  {
   "cell_type": "code",
   "execution_count": 71,
   "id": "4dc28126",
   "metadata": {},
   "outputs": [
    {
     "data": {
      "text/plain": [
       "<Axes: xlabel='edad', ylabel='estatura'>"
      ]
     },
     "execution_count": 71,
     "metadata": {},
     "output_type": "execute_result"
    },
    {
     "data": {
      "image/png": "[encoded data removed]",
      "text/plain": [
       "<Figure size 640x480 with 1 Axes>"
      ]
     },
     "metadata": {},
     "output_type": "display_data"
    }
   ],
   "source": [
    "#graficar una nube de puntos\n",
    "df.plot(kind=\"scatter\", x= \"edad\", y=\"estatura\") # genera grafico de barras de la columna edad vs estatura del dataframe"
   ]
  },
  {
   "cell_type": "markdown",
   "id": "ae3de1df",
   "metadata": {},
   "source": [
    "# guardar mi df en un archivo csv\n",
    "dt.to_csv(\"de_23_08.csv\", index=False) #guardar el dataframe\n",
    "df.to_excel(\"df_23_08_xlsx\", index=False)\n",
    "df.to_excel(\"df_23_08_json\", index=False)\n"
   ]
  },
  {
   "cell_type": "code",
   "execution_count": 72,
   "id": "e95e3196",
   "metadata": {},
   "outputs": [],
   "source": [
    "# guardar mi df en un archivo csv\n",
    "df.to_csv(\"df_23_08.csv\", index=False) \n",
    "df.to_excel(\"df_23_08.xlsx\", index=False)\n",
    "df.to_json(\"df_23_08_json\", index=False)\n"
   ]
  },
  {
   "cell_type": "code",
   "execution_count": 73,
   "id": "1d2ff603",
   "metadata": {},
   "outputs": [],
   "source": [
    "# crear datafremes basados en documentos\n",
    "# excel, csv, json"
   ]
  },
  {
   "cell_type": "markdown",
   "id": "ee42aaf5",
   "metadata": {},
   "source": [
    "# uso de gestor de paquetes pip\n",
    "instalar pip isntall nombre libleria \n",
    "desitalor pip"
   ]
  }
 ],
 "metadata": {
  "kernelspec": {
   "display_name": "_env",
   "language": "python",
   "name": "python3"
  },
  "language_info": {
   "codemirror_mode": {
    "name": "ipython",
    "version": 3
   },
   "file_extension": ".py",
   "mimetype": "text/x-python",
   "name": "python",
   "nbconvert_exporter": "python",
   "pygments_lexer": "ipython3",
   "version": "3.13.7"
  }
 },
 "nbformat": 4,
 "nbformat_minor": 5
}
